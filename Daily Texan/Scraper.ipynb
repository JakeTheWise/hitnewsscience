{
 "cells": [
  {
   "cell_type": "code",
   "execution_count": 1,
   "metadata": {
    "ExecuteTime": {
     "end_time": "2017-09-21T05:43:09.933816Z",
     "start_time": "2017-09-21T05:43:09.436884Z"
    }
   },
   "outputs": [],
   "source": [
    "from bs4 import BeautifulSoup\n",
    "from requests import get\n",
    "import pandas as pd"
   ]
  },
  {
   "cell_type": "code",
   "execution_count": 81,
   "metadata": {
    "ExecuteTime": {
     "end_time": "2017-09-21T16:58:41.692328Z",
     "start_time": "2017-09-21T16:58:41.685689Z"
    }
   },
   "outputs": [],
   "source": [
    "# HREF SCRAPER\n",
    "def get_urls(n_pages, section):\n",
    "    print('getting urls')\n",
    "    urls = []\n",
    "    c = 0\n",
    "    for page in range(n_pages+1):\n",
    "        try:\n",
    "            soup = BeautifulSoup(get('https://www.dailytexanonline.com/section/{0}?page={1}'.format(section, page)).text,'lxml')\n",
    "            for i in soup.findAll('h2', {'class':'story-title'}):\n",
    "                urls.append(i.find('a')['href'])\n",
    "            if c % 20 == 0:\n",
    "                print('{:.2f}'.format(c/n_pages), end=' ')\n",
    "            c += 1\n",
    "        except AttributeError:\n",
    "            print(page)\n",
    "    return urls"
   ]
  },
  {
   "cell_type": "code",
   "execution_count": 91,
   "metadata": {
    "ExecuteTime": {
     "end_time": "2017-09-21T17:39:40.521615Z",
     "start_time": "2017-09-21T17:39:40.508343Z"
    }
   },
   "outputs": [],
   "source": [
    "# ARTICLE SCRAPER\n",
    "def get_articles(urls):\n",
    "    print('getting articles')\n",
    "    articles = {}\n",
    "    c = 0\n",
    "    for h in urls:\n",
    "        try:\n",
    "            soup = BeautifulSoup(get('https://www.dailytexanonline.com'+h).text,'lxml')\n",
    "            auth = soup.find('div',{'id':'author-name'})\n",
    "            articles[h] = dict(\n",
    "                text = soup.find('div',{'id':'article-body'}).text,\n",
    "                author = auth.text,\n",
    "                author_link = auth.find('a')['href'],\n",
    "                date = soup.find('time',{'id':'article-published'}).text,\n",
    "                title = soup.find('h1',{'id':'page-title'}).text,\n",
    "    #             these two don't load in time\n",
    "        #         likes = soup.find('span',{'id':'u_0_1'}).text,\n",
    "        #         comments = soup.find('span',{'id':'comment-count'}).text,\n",
    "            )\n",
    "        except:\n",
    "            print(h)\n",
    "        if c % 20 == 0:\n",
    "            print('{:.2f}'.format(c/len(urls)), end=' ')\n",
    "        c += 1\n",
    "    articles = pd.DataFrame.from_dict(articles, orient='index')\n",
    "    articles.date = pd.to_datetime(articles.date.str.lstrip('Published on '), format='%B %d, %Y at %I:%M %p')\n",
    "    articles.text = articles.text.str.replace('\\\\xa0',' ').str.replace('\\\\n',' ')\n",
    "    articles.author = articles.author.str.lstrip('By ')\n",
    "    articles.title = articles.title.str.strip()\n",
    "    return articles"
   ]
  },
  {
   "cell_type": "code",
   "execution_count": 92,
   "metadata": {
    "ExecuteTime": {
     "end_time": "2017-09-21T18:00:00.795235Z",
     "start_time": "2017-09-21T17:39:40.820370Z"
    },
    "scrolled": true
   },
   "outputs": [
    {
     "name": "stdout",
     "output_type": "stream",
     "text": [
      "getting urls\n",
      "0.00 0.11 0.22 0.34 0.45 0.56 0.67 0.79 0.90 getting articles\n",
      "0.00 0.01 0.02 0.03 0.04 0.06 /2017/05/07/former-university-president-peter-flawn-passes-away\n",
      "0.07 0.08 0.09 0.10 0.11 0.12 0.13 0.15 0.16 0.17 0.18 0.19 0.20 0.21 0.22 0.24 0.25 0.26 0.27 0.28 0.29 0.30 0.31 0.33 0.34 0.35 0.36 0.37 0.38 0.39 0.40 0.41 0.43 0.44 0.45 0.46 0.47 0.48 0.49 0.50 0.52 0.53 0.54 0.55 0.56 0.57 0.58 0.59 0.61 0.62 0.63 0.64 0.65 0.66 0.67 0.68 0.70 0.71 0.72 0.73 0.74 0.75 0.76 0.77 0.78 0.80 /2015/09/24/ut-system-to-launch-sexual-assualt-survey-in-october\n",
      "0.81 0.82 0.83 0.84 0.85 0.86 0.87 0.89 0.90 0.91 0.92 0.93 0.94 0.95 0.96 0.98 0.99 1.00 "
     ]
    }
   ],
   "source": [
    "get_articles(get_urls(178,'campus')).to_pickle('data/campus.p')"
   ]
  },
  {
   "cell_type": "code",
   "execution_count": 52,
   "metadata": {
    "ExecuteTime": {
     "end_time": "2017-09-21T06:31:38.483844Z",
     "start_time": "2017-09-21T06:31:38.452614Z"
    }
   },
   "outputs": [],
   "source": [
    "data = pd.read_pickle('data/opinion.p')\n",
    "data.text = data.text.str.strip()\n",
    "data.author = data.author.str.lower()\n",
    "# data = data[data.author.isin(data.author.value_counts().head(20).index)]"
   ]
  },
  {
   "cell_type": "code",
   "execution_count": 53,
   "metadata": {
    "ExecuteTime": {
     "end_time": "2017-09-21T06:31:43.806941Z",
     "start_time": "2017-09-21T06:31:41.308114Z"
    }
   },
   "outputs": [],
   "source": [
    "from sklearn.feature_extraction.text import TfidfVectorizer\n",
    "v = TfidfVectorizer(stop_words='english', strip_accents='unicode').fit(data.text)\n",
    "w = v.transform(data.text)"
   ]
  },
  {
   "cell_type": "code",
   "execution_count": 50,
   "metadata": {
    "ExecuteTime": {
     "end_time": "2017-09-21T06:31:23.952029Z",
     "start_time": "2017-09-21T06:31:23.937145Z"
    }
   },
   "outputs": [],
   "source": [
    "from sklearn.naive_bayes import MultinomialNB\n",
    "y = LabelEncoder().fit_transform(data.author.str.lower())\n",
    "m = MultinomialNB(alpha=.1).fit(w, y)"
   ]
  },
  {
   "cell_type": "code",
   "execution_count": 51,
   "metadata": {
    "ExecuteTime": {
     "end_time": "2017-09-21T06:31:24.637423Z",
     "start_time": "2017-09-21T06:31:24.628435Z"
    }
   },
   "outputs": [
    {
     "data": {
      "text/plain": [
       "0.97190293742017875"
      ]
     },
     "execution_count": 51,
     "metadata": {},
     "output_type": "execute_result"
    }
   ],
   "source": [
    "m.score(w, y)"
   ]
  },
  {
   "cell_type": "code",
   "execution_count": 54,
   "metadata": {
    "ExecuteTime": {
     "end_time": "2017-09-21T06:33:44.406203Z",
     "start_time": "2017-09-21T06:32:33.439438Z"
    },
    "scrolled": true
   },
   "outputs": [
    {
     "name": "stdout",
     "output_type": "stream",
     "text": [
      "Initialization complete\n",
      "Initialization complete\n",
      "Initialization complete\n",
      "Initialization complete\n",
      "Initialization complete\n",
      "Initialization complete\n",
      "Initialization complete\n",
      "Initialization complete\n",
      "Iteration  0, inertia 4730.641\n",
      "Iteration  0, inertia 4743.456\n",
      "Iteration  0, inertia 4683.911\n",
      "Iteration  0, inertia 4730.312\n",
      "Iteration  0, inertia 4740.505\n",
      "Iteration  0, inertia 4724.488\n",
      "Iteration  0, inertia 4734.731\n",
      "Iteration  0, inertia 4729.638\n",
      "Iteration  1, inertia 2449.850\n",
      "Iteration  1, inertia 2447.293\n",
      "Iteration  1, inertia 2456.910\n",
      "Iteration  1, inertia 2450.733\n",
      "Iteration  1, inertia 2450.318\n",
      "Iteration  1, inertia 2452.134\n",
      "Iteration  1, inertia 2457.944\n",
      "Iteration  1, inertia 2456.176\n",
      "Iteration  2, inertia 2439.075\n",
      "Iteration  2, inertia 2438.401\n",
      "Iteration  2, inertia 2438.472\n",
      "Iteration  2, inertia 2438.705\n",
      "Iteration  2, inertia 2445.336\n",
      "Iteration  2, inertia 2440.616\n",
      "Iteration  2, inertia 2445.380\n",
      "Iteration  2, inertia 2444.665\n",
      "Iteration  3, inertia 2435.751\n",
      "Iteration  3, inertia 2434.428\n",
      "Iteration  3, inertia 2434.429\n",
      "Iteration  3, inertia 2435.929\n",
      "Iteration  3, inertia 2436.643\n",
      "Iteration  3, inertia 2440.518\n",
      "Iteration  3, inertia 2438.396\n",
      "Iteration  3, inertia 2439.002\n",
      "Iteration  4, inertia 2433.969\n",
      "Iteration  4, inertia 2432.873\n",
      "Iteration  4, inertia 2432.826\n",
      "Iteration  4, inertia 2433.991\n",
      "Iteration  4, inertia 2434.721\n",
      "Iteration  4, inertia 2435.254\n",
      "Iteration  4, inertia 2438.386\n",
      "Iteration  4, inertia 2434.371\n",
      "Iteration  5, inertia 2432.796\n",
      "Iteration  5, inertia 2432.184\n",
      "Iteration  5, inertia 2432.001\n",
      "Iteration  5, inertia 2433.452\n",
      "Iteration  5, inertia 2432.796\n",
      "Iteration  5, inertia 2433.604\n",
      "Iteration  5, inertia 2436.700\n",
      "Iteration  5, inertia 2431.779\n",
      "Iteration  6, inertia 2431.908\n",
      "Iteration  6, inertia 2431.741\n",
      "Iteration  6, inertia 2431.518\n",
      "Iteration  6, inertia 2432.426\n",
      "Iteration  6, inertia 2434.975\n",
      "Iteration  6, inertia 2432.816\n",
      "Iteration  6, inertia 2431.495\n",
      "Iteration  6, inertia 2430.148\n",
      "Iteration  7, inertia 2431.379\n",
      "Iteration  7, inertia 2431.175\n",
      "Iteration  7, inertia 2431.241\n",
      "Iteration  7, inertia 2433.358\n",
      "Iteration  7, inertia 2431.617\n",
      "Iteration  7, inertia 2432.309\n",
      "Iteration  7, inertia 2429.198\n",
      "Iteration  7, inertia 2429.474\n",
      "Iteration  8, inertia 2430.713\n",
      "Iteration  8, inertia 2430.381\n",
      "Iteration  8, inertia 2431.098\n",
      "Iteration  8, inertia 2430.716\n",
      "Iteration  8, inertia 2431.975\n",
      "Iteration  8, inertia 2432.256\n",
      "Iteration  8, inertia 2428.316\n",
      "Iteration  8, inertia 2428.940\n",
      "Iteration  9, inertia 2430.295\n",
      "Iteration  9, inertia 2429.953\n",
      "Iteration  9, inertia 2430.774\n",
      "Iteration  9, inertia 2430.563\n",
      "Iteration  9, inertia 2431.688\n",
      "Iteration  9, inertia 2431.354\n",
      "Iteration  9, inertia 2427.999\n",
      "Iteration  9, inertia 2428.626\n",
      "Iteration 10, inertia 2429.825\n",
      "Iteration 10, inertia 2429.631\n",
      "Iteration 10, inertia 2431.460\n",
      "Iteration 10, inertia 2430.548\n",
      "Iteration 10, inertia 2430.533\n",
      "Iteration 10, inertia 2430.299\n",
      "Iteration 10, inertia 2427.869\n",
      "Iteration 10, inertia 2428.370\n",
      "Iteration 11, inertia 2429.617\n",
      "Iteration 11, inertia 2429.369\n",
      "Iteration 11, inertia 2431.294\n",
      "Iteration 11, inertia 2430.481\n",
      "Iteration 11, inertia 2427.809\n",
      "Iteration 11, inertia 2430.503\n",
      "Iteration 11, inertia 2429.483\n",
      "Iteration 11, inertia 2428.013\n",
      "Iteration 12, inertia 2429.501\n",
      "Iteration 12, inertia 2429.105\n",
      "Iteration 12, inertia 2431.081\n",
      "Iteration 12, inertia 2430.457\n",
      "Iteration 12, inertia 2430.499\n",
      "Converged at iteration 12: center shift 0.000000e+00 within tolerance 2.776103e-09\n",
      "Iteration 12, inertia 2427.786\n",
      "Iteration 12, inertia 2428.959\n",
      "Iteration 12, inertia 2427.686\n",
      "Initialization complete\n",
      "Iteration 13, inertia 2429.380\n",
      "Iteration 13, inertia 2428.478\n",
      "Iteration 13, inertia 2430.453\n",
      "Iteration 13, inertia 2430.833\n",
      "Iteration 13, inertia 2427.759\n",
      "Iteration 13, inertia 2428.502\n",
      "Iteration 13, inertia 2427.410\n",
      "Iteration  0, inertia 4708.014\n",
      "Iteration 14, inertia 2429.349\n",
      "Iteration 14, inertia 2428.108\n",
      "Iteration 14, inertia 2430.449\n",
      "Converged at iteration 14: center shift 0.000000e+00 within tolerance 2.776103e-09\n",
      "Iteration 14, inertia 2430.511\n",
      "Initialization complete\n",
      "Iteration 14, inertia 2427.750\n",
      "Converged at iteration 14: center shift 0.000000e+00 within tolerance 2.776103e-09\n",
      "Iteration 14, inertia 2428.180\n",
      "Iteration  1, inertia 2453.342\n",
      "Iteration 14, inertia 2427.243\n",
      "Iteration 15, inertia 2429.323\n",
      "Iteration 15, inertia 2427.819\n",
      "Iteration 15, inertia 2430.224\n",
      "Iteration  0, inertia 4733.118\n",
      "Iteration 15, inertia 2427.979\n",
      "Iteration  2, inertia 2441.457\n",
      "Iteration 15, inertia 2427.108\n",
      "Iteration 16, inertia 2429.276\n",
      "Iteration 16, inertia 2427.577\n",
      "Iteration 16, inertia 2429.889\n",
      "Iteration 16, inertia 2427.822\n",
      "Iteration  1, inertia 2455.933\n",
      "Iteration  3, inertia 2437.507\n",
      "Iteration 16, inertia 2427.041\n",
      "Iteration 17, inertia 2429.259\n",
      "Iteration 17, inertia 2429.444\n",
      "Iteration  2, inertia 2446.077\n",
      "Iteration 17, inertia 2427.340\n",
      "Iteration 17, inertia 2427.724\n",
      "Iteration  4, inertia 2435.515\n",
      "Iteration 17, inertia 2426.992\n",
      "Iteration 18, inertia 2429.250\n",
      "Converged at iteration 18: center shift 0.000000e+00 within tolerance 2.776103e-09\n",
      "Iteration 18, inertia 2429.314\n",
      "Iteration 18, inertia 2427.052\n",
      "Iteration  5, inertia 2434.329\n",
      "Iteration 18, inertia 2427.678\n",
      "Iteration  3, inertia 2440.634\n",
      "Iteration 18, inertia 2426.975\n",
      "Iteration 19, inertia 2429.308\n",
      "Iteration  6, inertia 2433.594\n",
      "Iteration 19, inertia 2426.836\n",
      "Iteration 19, inertia 2427.644\n",
      "Iteration  4, inertia 2437.832\n",
      "Iteration 19, inertia 2426.961\n",
      "Iteration 20, inertia 2429.301\n",
      "Iteration  5, inertia 2436.034\n",
      "Iteration 20, inertia 2426.792\n",
      "Iteration  7, inertia 2433.012\n",
      "Iteration 20, inertia 2427.637\n",
      "Iteration 20, inertia 2426.955\n",
      "Iteration 21, inertia 2429.292\n",
      "Iteration  6, inertia 2435.553\n",
      "Iteration 21, inertia 2427.634\n",
      "Iteration 21, inertia 2426.785\n",
      "Iteration  8, inertia 2432.268\n",
      "Iteration 21, inertia 2426.950\n",
      "Iteration 22, inertia 2426.780\n",
      "Converged at iteration 22: center shift 0.000000e+00 within tolerance 2.776103e-09\n",
      "Iteration  7, inertia 2435.334\n",
      "Iteration 22, inertia 2429.287\n",
      "Iteration 22, inertia 2427.630\n",
      "Converged at iteration 22: center shift 0.000000e+00 within tolerance 2.776103e-09\n",
      "Iteration  9, inertia 2431.393\n",
      "Iteration 22, inertia 2426.947\n",
      "Converged at iteration 22: center shift 0.000000e+00 within tolerance 2.776103e-09\n",
      "Iteration  8, inertia 2435.223\n",
      "Iteration 23, inertia 2429.283\n",
      "Converged at iteration 23: center shift 0.000000e+00 within tolerance 2.776103e-09\n",
      "Iteration 10, inertia 2430.308\n",
      "Iteration  9, inertia 2435.178\n",
      "Iteration 11, inertia 2428.790\n",
      "Iteration 10, inertia 2435.122\n",
      "Iteration 12, inertia 2427.816\n",
      "Iteration 11, inertia 2435.084\n",
      "Iteration 13, inertia 2427.429\n",
      "Iteration 12, inertia 2435.051\n",
      "Iteration 14, inertia 2427.236\n",
      "Iteration 13, inertia 2435.043\n",
      "Converged at iteration 13: center shift 0.000000e+00 within tolerance 2.776103e-09\n",
      "Iteration 15, inertia 2427.117\n",
      "Iteration 16, inertia 2427.061\n",
      "Iteration 17, inertia 2427.055\n",
      "Iteration 18, inertia 2427.048\n",
      "Iteration 19, inertia 2427.040\n",
      "Iteration 20, inertia 2427.014\n",
      "Iteration 21, inertia 2426.982\n",
      "Iteration 22, inertia 2426.953\n",
      "Iteration 23, inertia 2426.921\n",
      "Iteration 24, inertia 2426.868\n",
      "Iteration 25, inertia 2426.858\n",
      "Converged at iteration 25: center shift 0.000000e+00 within tolerance 2.776103e-09\n"
     ]
    }
   ],
   "source": [
    "from sklearn.cluster import KMeans\n",
    "k = KMeans(n_jobs=-1, verbose=1, random_state=42).fit(w)"
   ]
  },
  {
   "cell_type": "code",
   "execution_count": 58,
   "metadata": {
    "ExecuteTime": {
     "end_time": "2017-09-21T06:36:25.013335Z",
     "start_time": "2017-09-21T06:36:24.999886Z"
    }
   },
   "outputs": [
    {
     "data": {
      "text/plain": [
       "spurning          0.109158\n",
       "harmfully         0.077428\n",
       "nepotistic        0.076215\n",
       "ingloriously      0.066014\n",
       "inefficiency      0.061617\n",
       "constituency      0.052348\n",
       "brashly           0.048730\n",
       "1462              0.046882\n",
       "barrel            0.045194\n",
       "demonstrates      0.041288\n",
       "devoting          0.040403\n",
       "surcharge         0.039286\n",
       "gnarly            0.036088\n",
       "wooing            0.032325\n",
       "erg               0.031470\n",
       "sweetheart        0.030562\n",
       "356               0.030233\n",
       "foodstuffs        0.030133\n",
       "surrendering      0.029976\n",
       "cassell           0.028429\n",
       "modulators        0.027308\n",
       "ny                0.026300\n",
       "crudely           0.024046\n",
       "boss              0.023613\n",
       "120               0.021996\n",
       "discomfort        0.021676\n",
       "courtrooms        0.021377\n",
       "template          0.021295\n",
       "campuswide        0.021219\n",
       "eliciting         0.020514\n",
       "                    ...   \n",
       "devon             0.000000\n",
       "dysfunctional     0.000000\n",
       "sanger            0.000000\n",
       "contextualizes    0.000000\n",
       "circumvented      0.000000\n",
       "borrows           0.000000\n",
       "extol             0.000000\n",
       "astray            0.000000\n",
       "veer              0.000000\n",
       "inconvenienced    0.000000\n",
       "mooted            0.000000\n",
       "overkill          0.000000\n",
       "wiped             0.000000\n",
       "darling           0.000000\n",
       "sowder            0.000000\n",
       "kupec             0.000000\n",
       "recounting        0.000000\n",
       "shahab            0.000000\n",
       "irris             0.000000\n",
       "834               0.000000\n",
       "104               0.000000\n",
       "253               0.000000\n",
       "171               0.000000\n",
       "newsrooms         0.000000\n",
       "nontenured        0.000000\n",
       "humphrey          0.000000\n",
       "humphrinator      0.000000\n",
       "brouhaha          0.000000\n",
       "graphically       0.000000\n",
       "prerequisite      0.000000\n",
       "Name: 0, Length: 34850, dtype: float64"
      ]
     },
     "execution_count": 58,
     "metadata": {},
     "output_type": "execute_result"
    }
   ],
   "source": [
    "cc = pd.DataFrame(data=k.cluster_centers_, columns=v.vocabulary_).T\n",
    "cc[0].sort_values(ascending=False)"
   ]
  },
  {
   "cell_type": "code",
   "execution_count": 60,
   "metadata": {
    "ExecuteTime": {
     "end_time": "2017-09-21T06:38:30.553625Z",
     "start_time": "2017-09-21T06:38:30.541385Z"
    }
   },
   "outputs": [],
   "source": [
    "data['cluster'] = k.predict(w)"
   ]
  },
  {
   "cell_type": "code",
   "execution_count": 70,
   "metadata": {
    "ExecuteTime": {
     "end_time": "2017-09-21T16:54:04.936100Z",
     "start_time": "2017-09-21T16:54:04.851355Z"
    }
   },
   "outputs": [
    {
     "data": {
      "text/plain": [
       "matt offill                           1.000000\n",
       "mitchell hughes ralph                 1.000000\n",
       "ezra siegel                           1.000000\n",
       "evan berkowitz                        1.000000\n",
       "juan carlos delafuente                1.000000\n",
       "ou daily                              1.000000\n",
       "marc nestenius                        1.000000\n",
       "david leffler                         1.000000\n",
       "garrett callahan                      1.000000\n",
       "curry shoff                           1.000000\n",
       "christian corona                      1.000000\n",
       "the oklahoma daily editorial board    1.000000\n",
       "thomas hunt, anne mueller             1.000000\n",
       "chad markey                           1.000000\n",
       "nick castillo                         1.000000\n",
       "travis adams                          0.666667\n",
       "jasmine c. johnson                    0.666667\n",
       "jori epstein                          0.615385\n",
       "daley epstein                         0.500000\n",
       "matthew gil                           0.500000\n",
       "patrick st. pierre                    0.500000\n",
       "zachary adams                         0.333333\n",
       "eric sundin                           0.333333\n",
       "reagan stuart                         0.300000\n",
       "delaney mayfield                      0.285714\n",
       "john daywalt                          0.250000\n",
       "tom palaima                           0.250000\n",
       "davis clark                           0.222222\n",
       "hannah lapin                          0.200000\n",
       "the daily texan editorial board       0.168831\n",
       "diane sun                             0.166667\n",
       "mia ciardi                            0.166667\n",
       "adam humphrey                         0.142857\n",
       "lauren ferguson                       0.142857\n",
       "randon curl                           0.111111\n",
       "dolph briscoe iv                      0.111111\n",
       "nrhari duran                          0.100000\n",
       "stephen mcgarvey                      0.100000\n",
       "edgar walters                         0.090909\n",
       "eric nikolaides                       0.090909\n",
       "emma berdanier                        0.083333\n",
       "erica ndubueze                        0.076923\n",
       "khadija saifullah                     0.073171\n",
       "olivia griffin                        0.066667\n",
       "audrey larcher                        0.064516\n",
       "olivia berkeley                       0.058824\n",
       "chuck matula                          0.058824\n",
       "ratnika batra                         0.058824\n",
       "alexander chase                       0.052632\n",
       "david bordelon                        0.052632\n",
       "laura wright                          0.043478\n",
       "katherine taylor                      0.043478\n",
       "cuillin chastain-howley               0.041667\n",
       "jeremi suri                           0.034483\n",
       "emily vernon                          0.033333\n",
       "noah m. horwitz                       0.019048\n",
       "Name: author, dtype: float64"
      ]
     },
     "execution_count": 70,
     "metadata": {},
     "output_type": "execute_result"
    }
   ],
   "source": [
    "(data[data.cluster==0].author.value_counts()/data.author.value_counts()).dropna().sort_values(ascending=False)"
   ]
  },
  {
   "cell_type": "code",
   "execution_count": null,
   "metadata": {
    "collapsed": true
   },
   "outputs": [],
   "source": []
  }
 ],
 "metadata": {
  "kernelspec": {
   "display_name": "Python 3",
   "language": "python",
   "name": "python3"
  },
  "language_info": {
   "codemirror_mode": {
    "name": "ipython",
    "version": 3
   },
   "file_extension": ".py",
   "mimetype": "text/x-python",
   "name": "python",
   "nbconvert_exporter": "python",
   "pygments_lexer": "ipython3",
   "version": "3.6.1"
  },
  "varInspector": {
   "cols": {
    "lenName": 16,
    "lenType": 16,
    "lenVar": 40
   },
   "kernels_config": {
    "python": {
     "delete_cmd_postfix": "",
     "delete_cmd_prefix": "del ",
     "library": "var_list.py",
     "varRefreshCmd": "print(var_dic_list())"
    },
    "r": {
     "delete_cmd_postfix": ") ",
     "delete_cmd_prefix": "rm(",
     "library": "var_list.r",
     "varRefreshCmd": "cat(var_dic_list()) "
    }
   },
   "types_to_exclude": [
    "module",
    "function",
    "builtin_function_or_method",
    "instance",
    "_Feature"
   ],
   "window_display": false
  }
 },
 "nbformat": 4,
 "nbformat_minor": 2
}
